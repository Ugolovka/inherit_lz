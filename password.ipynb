{
 "cells": [
  {
   "cell_type": "code",
   "execution_count": null,
   "metadata": {},
   "outputs": [
    {
     "name": "stdout",
     "output_type": "stream",
     "text": [
      "Вся информация: (34, 45, 56)\n"
     ]
    }
   ],
   "source": [
    "import bcrypt\n",
    "\n",
    "class Login:\n",
    "    def __init__(self, name, surname, login):\n",
    "        self.name = name\n",
    "        self.surname = surname\n",
    "        self.login = login\n",
    "\n",
    "    def info(self):\n",
    "        print(f\"Вся информация: ({self.name}, {self.surname}, {self.login})\")\n",
    "\n",
    "    def is_employee(self):\n",
    "        pass\n",
    "login = Login(34, 45 , 56)\n",
    "login.info()"
   ]
  },
  {
   "cell_type": "code",
   "execution_count": 1,
   "metadata": {},
   "outputs": [
    {
     "name": "stdout",
     "output_type": "stream",
     "text": [
      "Salt :\n",
      "b'$2b$12$/PsCZxBobThNAHNqkdQrqu'\n",
      "Hashed\n",
      "b'$2b$12$/PsCZxBobThNAHNqkdQrqutW0IZIh1pBNJkVS3PMjIdatd7aijST2'\n"
     ]
    }
   ],
   "source": [
    "import bcrypt\n",
    " \n",
    "# Declaring our password\n",
    "password = b'GeekPassword'\n",
    " \n",
    "# Adding the salt to password\n",
    "salt = bcrypt.gensalt()\n",
    "# Hashing the password\n",
    "hashed = bcrypt.hashpw(password, salt)\n",
    " \n",
    "# printing the salt\n",
    "print(\"Salt :\")\n",
    "print(salt)\n",
    " \n",
    "# printing the hashed\n",
    "print(\"Hashed\")\n",
    "print(hashed)"
   ]
  }
 ],
 "metadata": {
  "kernelspec": {
   "display_name": "Python 3",
   "language": "python",
   "name": "python3"
  },
  "language_info": {
   "codemirror_mode": {
    "name": "ipython",
    "version": 3
   },
   "file_extension": ".py",
   "mimetype": "text/x-python",
   "name": "python",
   "nbconvert_exporter": "python",
   "pygments_lexer": "ipython3",
   "version": "3.12.3"
  }
 },
 "nbformat": 4,
 "nbformat_minor": 2
}
