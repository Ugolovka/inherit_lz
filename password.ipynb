{
 "cells": [
  {
   "cell_type": "code",
   "execution_count": 7,
   "metadata": {},
   "outputs": [
    {
     "name": "stdout",
     "output_type": "stream",
     "text": [
      "Вся информация: (34, 45, 56)\n",
      "Profil does not exist\n"
     ]
    }
   ],
   "source": [
    "import bcrypt\n",
    "\n",
    "list = [34, 45, 56]\n",
    "\n",
    "class Login:\n",
    "    def __init__(self, name, surname, login):\n",
    "        self.name = name\n",
    "        self.surname = surname\n",
    "        self.login = login\n",
    "\n",
    "    def info(self):\n",
    "        print(f\"Вся информация: ({self.name}, {self.surname}, {self.login})\")\n",
    "\n",
    "    def is_employee(self):\n",
    "        if self.info in list:\n",
    "            print(\"Profil exists in the list\")\n",
    "        else:\n",
    "            print(\"Profil does not exist\")\n",
    "login = Login(34, 45 , 56)\n",
    "login.info()\n",
    "login.is_employee()"
   ]
  },
  {
   "cell_type": "code",
   "execution_count": 2,
   "metadata": {},
   "outputs": [
    {
     "name": "stdout",
     "output_type": "stream",
     "text": [
      "Name: Ivan, Surname: Petrov, Login: ivanp, Password: 23efcb7696e9496e7a5e32fe3893b76178ddb68389b5ffc04a33ac0e0bc8803d (hashed), Algorithm: sha256\n"
     ]
    }
   ],
   "source": [
    "import hashlib\n",
    "\n",
    "class Login:\n",
    "    def __init__(self, name, surname, login):\n",
    "        self.name = name\n",
    "        self.surname = surname\n",
    "        self.login = login\n",
    "\n",
    "class Authorization(Login):\n",
    "    def __init__(self, name, surname, login, password, hash_algorithm=\"sha256\"):\n",
    "        super().__init__(name, surname, login)\n",
    "        self.password = password\n",
    "        self.hash_algorithm = hash_algorithm\n",
    "        self.is_hashed = False\n",
    "\n",
    "    def hashing_pass(self):\n",
    "\n",
    "        if not self.is_hashed:\n",
    "            hash_func = getattr(hashlib, self.hash_algorithm, hashlib.sha256)\n",
    "            self.password = hash_func(self.password.encode()).hexdigest()\n",
    "            self.is_hashed = True\n",
    "\n",
    "    def info(self):\n",
    "        if not self.is_hashed:\n",
    "            self.hashing_pass()\n",
    "        return (f\"Name: {self.name}, Surname: {self.surname}, Login: {self.login}, \"\n",
    "                f\"Password: {self.password} (hashed), Algorithm: {self.hash_algorithm}\")\n",
    "\n",
    "\n",
    "if __name__ == \"__main__\":\n",
    "    user = Authorization(\"Ivan\", \"Petrov\", \"ivanp\", \"my_secure_pass\")\n",
    "    print(user.info()) "
   ]
  },
  {
   "cell_type": "code",
   "execution_count": 2,
   "metadata": {},
   "outputs": [
    {
     "name": "stdout",
     "output_type": "stream",
     "text": [
      "Salt :\n",
      "b'$2b$12$5.IpYGLd3z6Yjlp7bt.XPe'\n",
      "Hashed\n",
      "b'$2b$12$5.IpYGLd3z6Yjlp7bt.XPeNtdL7IH3LgXXrR1lcmVQBDKrKyocaOS'\n"
     ]
    }
   ],
   "source": [
    "import bcrypt\n",
    " \n",
    "# Declaring our password\n",
    "password = b'GeekPassword'\n",
    " \n",
    "# Adding the salt to password\n",
    "salt = bcrypt.gensalt()\n",
    "# Hashing the password\n",
    "hashed = bcrypt.hashpw(password, salt)\n",
    " \n",
    "# printing the salt\n",
    "print(\"Salt :\")\n",
    "print(salt)\n",
    " \n",
    "# printing the hashed\n",
    "print(\"Hashed\")\n",
    "print(hashed)"
   ]
  }
 ],
 "metadata": {
  "kernelspec": {
   "display_name": "Python 3",
   "language": "python",
   "name": "python3"
  },
  "language_info": {
   "codemirror_mode": {
    "name": "ipython",
    "version": 3
   },
   "file_extension": ".py",
   "mimetype": "text/x-python",
   "name": "python",
   "nbconvert_exporter": "python",
   "pygments_lexer": "ipython3",
   "version": "3.12.3"
  }
 },
 "nbformat": 4,
 "nbformat_minor": 2
}
